{
 "cells": [
  {
   "cell_type": "markdown",
   "metadata": {
    "pycharm": {
     "name": "#%% md\n"
    }
   },
   "source": [
    "# Stamps Problem\n",
    "\n",
    "This notebook covers my solution to the following problem:\n",
    "\n",
    "A trader has discovered a source of 1000 unique types of stamps which she can buy in bulk and then sell to a network of 100 merchants through an intermediary. No matter what type of stamp, she pays $1 for each stamp. Each day, she can sell up to 100 bags of stamps (each bag containing one or more different stamps, with no limit on how many stamps can be in each bag), and she is paid the next day. Unfortunately, the intermediary hides the prices of the individual stamps, and only tells the trader the per-bag price. In order to consistently turn a profit at a reasonable margin, it would be helpful to know which of the 1000 types of stamps are the most valuable, so she could sell bags with only the most valuable stamps. Given 7 days to evaluate 1000 types of stamps using 100 bags/day max, how does she figure out which types of stamps are the most valuable?"
   ]
  },
  {
   "cell_type": "markdown",
   "metadata": {},
   "source": [
    "### Imports"
   ]
  },
  {
   "cell_type": "code",
   "execution_count": 33,
   "metadata": {
    "pycharm": {
     "name": "#%%\n"
    }
   },
   "outputs": [],
   "source": [
    "from scipy.stats import truncnorm\n",
    "from random import shuffle\n",
    "from collections import namedtuple\n",
    "from itertools import chain\n",
    "from typing import List\n",
    "import math"
   ]
  },
  {
   "cell_type": "markdown",
   "metadata": {},
   "source": [
    "### Constants\n",
    "\n",
    "- __low_bound__: The lower limit of a stamp's value.\n",
    "- __upper_bound__: The upper limit of a stamp's value.\n",
    "- __mu__: Average value of a stamp.\n",
    "- __sd__: Standard deviation of the distribution of stamp values.\n",
    "- __N_STAMPS__: How many stamps to use in a simulation.\n",
    "- __N_SIMULATION__: How many simulations to perform."
   ]
  },
  {
   "cell_type": "code",
   "execution_count": 34,
   "metadata": {
    "pycharm": {
     "name": "#%%\n"
    }
   },
   "outputs": [],
   "source": [
    "# Stamp value distribution paramaters\n",
    "low_bound = 0\n",
    "upper_bound = 100\n",
    "mu = 1\n",
    "sd = 0.6\n",
    "\n",
    "# Problem variables\n",
    "N_STAMPS = 1_000\n",
    "N_SIMULATIONS = 1_000\n",
    "N_BAGS_PER_DAY = 100\n",
    "\n",
    "# Solution Variables\n",
    "PHASE_1_DURATION = 4\n",
    "PHASE_2_DURATION = 1"
   ]
  },
  {
   "cell_type": "markdown",
   "metadata": {},
   "source": [
    "### Modeling the Problem\n",
    "\n",
    "Creates some data structures and a class to model the problem, making it easier to test different solutions."
   ]
  },
  {
   "cell_type": "code",
   "execution_count": 35,
   "metadata": {
    "pycharm": {
     "name": "#%%\n"
    }
   },
   "outputs": [],
   "source": [
    "Stamp = namedtuple(\"Stamp\", ['id', 'value'])\n",
    "BagSample = namedtuple(\"BagSample\", [\"stamp_ids\", \"bag_value\"])\n",
    "\n",
    "class StampEnv:\n",
    "    def __init__(self, n_stamps):\n",
    "        a, b = (low_bound - mu) / sd, (upper_bound - mu) / sd\n",
    "        stamp_values = truncnorm.rvs(a, b, loc=mu, scale=sd, size=n_stamps)\n",
    "        stamp_values = (stamp_values * 20).round() / 20\n",
    "\n",
    "        self.stamps = [Stamp(id=i, value=v) for i, v in enumerate(stamp_values)]\n",
    "        self.day = 0\n",
    "\n",
    "    def sample(self, bags: List[List[int]]):\n",
    "        bag_values = [sum([self.stamps[stamp_id].value for stamp_id in bag]) for bag in bags]\n",
    "        self.day += 1\n",
    "        return bag_values"
   ]
  },
  {
   "cell_type": "markdown",
   "metadata": {},
   "source": [
    "### Solution\n",
    "\n",
    "The strategy I used to solve this problem has two parts. First, all 1,000 stamps are sampled once over 5 days which requires placing 2 stamps per bags, for a total of 500 bags. Of these, only the top 100 values bags are considered, leaving a candidate pool of 200 stamps. Over the final two days, each stamp can be sent in it's own bag allowed the exact value to be determined. Whichever stamp performs best of this group of 200 stamps is the solution to this problem."
   ]
  },
  {
   "cell_type": "code",
   "execution_count": 46,
   "metadata": {
    "pycharm": {
     "name": "#%%\n"
    }
   },
   "outputs": [],
   "source": [
    "def simulate():\n",
    "    env = StampEnv(N_STAMPS)\n",
    "    collected_samples = []\n",
    "    PHASE_1_STAMPS_PER_BAG = math.ceil(N_STAMPS / (PHASE_1_DURATION * N_BAGS_PER_DAY))\n",
    "\n",
    "    for day in range(PHASE_1_DURATION):\n",
    "        day_shift = day * PHASE_1_STAMPS_PER_BAG * N_BAGS_PER_DAY\n",
    "\n",
    "        for bag in range(N_BAGS_PER_DAY):\n",
    "            stamp_ids = list(range(day_shift + (bag * PHASE_1_STAMPS_PER_BAG), day_shift + ((bag + 1) * PHASE_1_STAMPS_PER_BAG)))\n",
    "            \n",
    "            # This method can be wasteful depending on the parameters, leading to unused bags.\n",
    "            # If I was making this production ready, I would use the remaining bags to begin\n",
    "            # the phase 2 process.\n",
    "            stamp_ids = [stamp_id for stamp_id in stamp_ids if stamp_id < N_STAMPS]\n",
    "            \n",
    "            bag_value = env.sample([stamp_ids])[0]\n",
    "            collected_samples.append(BagSample(stamp_ids=tuple(stamp_ids), bag_value=bag_value))\n",
    "\n",
    "    collected_samples.sort(key=lambda x: x.bag_value, reverse=True)\n",
    "    bags_remaining = PHASE_2_DURATION * N_STAMPS_PER_BAG\n",
    "    top_samples = collected_samples[:bags_remaining]\n",
    "    candidates = list(chain(*[x.stamp_ids for x in top_samples]))\n",
    "\n",
    "    final_results = env.sample([[x] for x in candidates])\n",
    "\n",
    "    best_stamp_found_id = candidates[final_results.index(max(final_results))]\n",
    "    best_stamp_found = env.stamps[best_stamp_found_id]\n",
    "    best_stamp_actual = max(env.stamps, key=lambda x: x.value)\n",
    "\n",
    "    return best_stamp_found, best_stamp_actual"
   ]
  },
  {
   "cell_type": "markdown",
   "metadata": {},
   "source": [
    "### Testing Solution\n",
    "\n",
    "Results will vary between runs, but the best stamp should be discovered about 99.8% of the time. When the best stamp is not selected, this algorithm is not very far off, usully averaging just 10 cents in lost value.\n",
    "\n",
    "How effective this method is will change based on the stamp value distribution. Testing how this method performs on other distributions such as uniform, exponantial, or skewed normal should be evaluated as well."
   ]
  },
  {
   "cell_type": "code",
   "execution_count": 47,
   "metadata": {
    "pycharm": {
     "name": "#%%\n"
    }
   },
   "outputs": [
    {
     "name": "stdout",
     "output_type": "stream",
     "text": [
      "Out of 1,000 simulations, the best stamp was found 973 times.\n",
      "When the best stamp was not selected, it was on average $0.17 lower in value than the actual best.\n"
     ]
    }
   ],
   "source": [
    "best_found = 0\n",
    "lost_value = []\n",
    "for _ in range(N_SIMULATIONS):\n",
    "    pred, best = simulate()\n",
    "    if pred.value == best.value:\n",
    "        best_found += 1\n",
    "    else:\n",
    "        lost_value.append(best.value - pred.value)\n",
    "        \n",
    "avg_lost_value = sum(lost_value) / len(lost_value) if len(lost_value) > 0 else None\n",
    "        \n",
    "print(f\"Out of {N_SIMULATIONS:,} simulations, the best stamp was found {best_found:,} times.\")\n",
    "if avg_lost_value is not None:\n",
    "    print(f\"When the best stamp was not selected, it was on average ${avg_lost_value:,.2} lower in value than the actual best.\")"
   ]
  }
 ],
 "metadata": {
  "kernelspec": {
   "display_name": "Python 3",
   "language": "python",
   "name": "python3"
  },
  "language_info": {
   "codemirror_mode": {
    "name": "ipython",
    "version": 3
   },
   "file_extension": ".py",
   "mimetype": "text/x-python",
   "name": "python",
   "nbconvert_exporter": "python",
   "pygments_lexer": "ipython3",
   "version": "3.8.4"
  }
 },
 "nbformat": 4,
 "nbformat_minor": 1
}
